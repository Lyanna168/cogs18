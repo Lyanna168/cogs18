{
 "cells": [
  {
   "cell_type": "markdown",
   "metadata": {},
   "source": [
    "# Project Description"
   ]
  },
  {
   "cell_type": "markdown",
   "metadata": {},
   "source": [
    "## Repair Assistant Chatbot\n",
    "\n",
    "The Repair Assistant Chatbot is a Python-based application designed to assist single women with home appliance and furniture repairs. The chatbot provides answers to common issues related to household devices, offering helpful suggestions based on a static knowledge base. The chatbot can enhance its responses by incorporating specific details about the user's devices, such as the model and production year, ensuring more accurate and relevant assistance.\n",
    "\n",
    "## Key Features:\n",
    "\n",
    "Query Handling:\n",
    "Ask the chatbot questions about your appliances to receive helpful advice. The chatbot uses a static knowledge base to provide solutions to common problems.\n",
    "\n",
    "Resource Allocation:\n",
    "Based on the device issue, the chatbot can suggest resources or steps for repairs. This ensures you have all the necessary information to fix your appliance.\n",
    "\n",
    "User Feedback:\n",
    "You can provide feedback or comments about the chatbot's suggestions. This helps improve the system and ensures it remains effective.\n",
    "\n",
    "Action Simulation:\n",
    "The chatbot can simulate actions on devices to demonstrate possible solutions. This visual aid can help you better understand the repair process.\n",
    "\n",
    "## Example Interactions\n",
    "Adding a Device:\n",
    "add_device washing_machine LG1234 2018\n",
    "\n",
    "Output:\n",
    "Device added: washing machine, Model: LG1234, Year: 2018\n",
    "\n",
    "Asking a Question:\n",
    "My washing machine is not spinning, what should I do?\n",
    "\n",
    "Output:\n",
    "Please check if the power is properly connected, or if the door is not closed tightly.\n",
    "\n",
    "##  Modules and Scripts:\n",
    "\n",
    "Modules:\n",
    "\n",
    "my_module/classes.py: Defines core classes like Chatbot, KnowledgeBase, and User.\n",
    "my_module/functions.py: Contains helper functions for logging, input validation, response formatting, and query enhancement.\n",
    "my_module/test_functions.py: Contains test cases for the functions and classes to ensure they work correctly.\n",
    "Scripts:\n",
    "\n",
    "scripts/allocation.py: Handles resource allocation for device repairs.\n",
    "scripts/comment.py: Manages user comments or feedback.\n",
    "scripts/main.py: Main script to run the chatbot application.\n",
    "scripts/npc_action.py: Simulates actions on devices.\n",
    "scripts/player_menu.py: Manages user interaction menus.\n",
    "scripts/stat_check.py: Checks the status of various components.\n",
    "Data:\n",
    "\n",
    "data/device_data.json: Contains sample data for different devices, including their names, models, years, and common issues.\n",
    "Documentation:\n",
    "\n",
    "docs/project_overview.md: Provides an overview of the project, its purpose, and its structure.\n",
    "docs/user_manual.md: Explains how to use the application, including running the main script and using the menu options.\n",
    "docs/api_documentation.md: Provides documentation for the API endpoints or internal functions.\n",
    "Tests:\n",
    "\n",
    "tests/test_allocation.py: Tests the allocation functions.\n",
    "tests/test_comment.py: Tests the comment functions.\n",
    "tests/test_functions.py: Tests the functions from my_module/functions.py.\n",
    "tests/test_npc_action.py: Tests the NPC action functions.\n",
    "tests/test_player_menu.py: Tests the player menu functions.\n",
    "tests/test_stat_check.py: Tests the status check functions.\n",
    "\n",
    "## Troubleshooting\n",
    "If you encounter any issues, consider the following steps:\n",
    "\n",
    "Check Dependencies: Ensure all required dependencies are installed by checking the requirements.txt file.\n",
    "\n",
    "Review Documentation: Refer to the docs directory for detailed project documentation.\n",
    "\n",
    "Debugging: Use print statements or a debugger to trace and fix any issues in the code.\n",
    "\n",
    "## Contact Information\n",
    "For further assistance, contact the project team at support@example.com.\n",
    "\n",
    "By following this user manual, you should be able to effectively use the Repair Assistant Chatbot to get help with your home appliance and furniture repairs. Enjoy the peace of mind that comes with knowing you have a reliable assistant to guide you through any household repair challenges!\n"
   ]
  },
  {
   "cell_type": "markdown",
   "metadata": {},
   "source": [
    "## Project Code\n",
    "\n",
    "If it makes sense for your project, you can have code and outputs here in the notebook as well."
   ]
  },
  {
   "cell_type": "code",
   "execution_count": 12,
   "metadata": {},
   "outputs": [],
   "source": [
    "#project code is in other folders \n"
   ]
  },
  {
   "cell_type": "code",
   "execution_count": 14,
   "metadata": {},
   "outputs": [
    {
     "name": "stdout",
     "output_type": "stream",
     "text": [
      "DEBUG: enhanced_query = my washing machine is not spinning model: lg1234, year: 2018\r\n",
      "..DEBUG: enhanced_query = my washing machine is not spinning, what should i do? model: lg1234, year: 2018\r\n",
      "DEBUG: searching for query = my washing machine is not spinning, what should i do? model: lg1234, year: 2018\r\n",
      "..DEBUG: enhanced_query = my washing machine is not spinning, what should i do? model: lg1234, year: 2018\r\n",
      "DEBUG: searching for query = my washing machine is not spinning, what should i do? model: lg1234, year: 2018\r\n",
      "DEBUG: response = Please check if the power is properly connected, or if the door is not closed tightly.\r\n",
      "..\r\n",
      "----------------------------------------------------------------------\r\n",
      "Ran 6 tests in 0.001s\r\n",
      "\r\n",
      "OK\r\n"
     ]
    }
   ],
   "source": [
    "import sys\n",
    "import os\n",
    "\n",
    "\n",
    "project_path = '/home/ax009383/Project_COGS18_SP24'\n",
    "sys.path.insert(0, project_path)\n",
    "\n",
    "\n",
    "!python tests/test_functions.py\n",
    "\n",
    "\n",
    "\n",
    "\n"
   ]
  },
  {
   "cell_type": "code",
   "execution_count": null,
   "metadata": {},
   "outputs": [],
   "source": [
    "\n"
   ]
  },
  {
   "cell_type": "markdown",
   "metadata": {},
   "source": [
    "#### Extra Credit (*optional*)\n",
    "\n",
    "Replace all of this text with a brief explanation (~3 sentences) of: \n",
    "1.Before taking this course,I only have a little background in Python programming.\n",
    "2.This project goes above and beyond the basic requirements by implementing a modular design, test-driven development, and a user-friendly interface. I challenged myself by integrating multiple functionalities such as resource allocation, user feedback, and action simulation, which required learning and applying new concepts in Python. Additionally, I ensured that the project is well-documented and organized, making it easy for others to understand and use"
   ]
  },
  {
   "cell_type": "code",
   "execution_count": 2,
   "metadata": {},
   "outputs": [
    {
     "name": "stdout",
     "output_type": "stream",
     "text": [
      "Traceback (most recent call last):\r\n",
      "  File \"/home/ax009383/Project_COGS18_SP24/tests/test_allocation.py\", line 2, in <module>\r\n",
      "    from scripts.allocation import allocate_resources\r\n",
      "ModuleNotFoundError: No module named 'scripts'\r\n"
     ]
    }
   ],
   "source": [
    "#1.Before taking this course,I only have a little background in Python programming.\n",
    "#2.This project goes above and beyond the basic requirements by implementing a modular design, test-driven development, and a user-friendly interface. I challenged myself by integrating multiple functionalities such as resource allocation, user feedback, and action simulation, which required learning and applying new concepts in Python. Additionally, I ensured that the project is well-documented and organized, making it easy for others to understand and use"
   ]
  },
  {
   "cell_type": "code",
   "execution_count": null,
   "metadata": {},
   "outputs": [],
   "source": []
  }
 ],
 "metadata": {
  "kernelspec": {
   "display_name": "Python 3 (ipykernel)",
   "language": "python",
   "name": "python3"
  },
  "language_info": {
   "codemirror_mode": {
    "name": "ipython",
    "version": 3
   },
   "file_extension": ".py",
   "mimetype": "text/x-python",
   "name": "python",
   "nbconvert_exporter": "python",
   "pygments_lexer": "ipython3",
   "version": "3.9.5"
  }
 },
 "nbformat": 4,
 "nbformat_minor": 2
}
